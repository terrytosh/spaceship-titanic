{
 "cells": [
  {
   "cell_type": "code",
   "execution_count": 123,
   "metadata": {},
   "outputs": [],
   "source": [
    "try:\n",
    "    import pandas as pd\n",
    "    import numpy as np\n",
    "except (ImportError, ModuleNotFoundError):\n",
    "    print('Error occurred while importing libraries...')"
   ]
  },
  {
   "cell_type": "code",
   "execution_count": 124,
   "metadata": {},
   "outputs": [],
   "source": [
    "test_df = pd.read_csv('./data/test.csv', header=0)\n",
    "train_df = pd.read_csv('./data/train.csv', header=0)"
   ]
  },
  {
   "cell_type": "code",
   "execution_count": 125,
   "metadata": {},
   "outputs": [
    {
     "name": "stdout",
     "output_type": "stream",
     "text": [
      "train_df shape: (8693, 14)\n",
      "test_df shape: (4277, 13)\n",
      "\n",
      "train_df head:\n",
      "  PassengerId HomePlanet CryoSleep  Cabin  Destination   Age    VIP  \\\n",
      "0     0001_01     Europa     False  B/0/P  TRAPPIST-1e  39.0  False   \n",
      "1     0002_01      Earth     False  F/0/S  TRAPPIST-1e  24.0  False   \n",
      "2     0003_01     Europa     False  A/0/S  TRAPPIST-1e  58.0   True   \n",
      "3     0003_02     Europa     False  A/0/S  TRAPPIST-1e  33.0  False   \n",
      "4     0004_01      Earth     False  F/1/S  TRAPPIST-1e  16.0  False   \n",
      "\n",
      "   RoomService  FoodCourt  ShoppingMall     Spa  VRDeck               Name  \\\n",
      "0          0.0        0.0           0.0     0.0     0.0    Maham Ofracculy   \n",
      "1        109.0        9.0          25.0   549.0    44.0       Juanna Vines   \n",
      "2         43.0     3576.0           0.0  6715.0    49.0      Altark Susent   \n",
      "3          0.0     1283.0         371.0  3329.0   193.0       Solam Susent   \n",
      "4        303.0       70.0         151.0   565.0     2.0  Willy Santantines   \n",
      "\n",
      "   Transported  \n",
      "0        False  \n",
      "1         True  \n",
      "2        False  \n",
      "3        False  \n",
      "4         True  \n",
      "test_df head:\n",
      "  PassengerId HomePlanet CryoSleep  Cabin  Destination   Age    VIP  \\\n",
      "0     0013_01      Earth      True  G/3/S  TRAPPIST-1e  27.0  False   \n",
      "1     0018_01      Earth     False  F/4/S  TRAPPIST-1e  19.0  False   \n",
      "2     0019_01     Europa      True  C/0/S  55 Cancri e  31.0  False   \n",
      "3     0021_01     Europa     False  C/1/S  TRAPPIST-1e  38.0  False   \n",
      "4     0023_01      Earth     False  F/5/S  TRAPPIST-1e  20.0  False   \n",
      "\n",
      "   RoomService  FoodCourt  ShoppingMall     Spa  VRDeck              Name  \n",
      "0          0.0        0.0           0.0     0.0     0.0   Nelly Carsoning  \n",
      "1          0.0        9.0           0.0  2823.0     0.0    Lerome Peckers  \n",
      "2          0.0        0.0           0.0     0.0     0.0   Sabih Unhearfus  \n",
      "3          0.0     6652.0           0.0   181.0   585.0  Meratz Caltilter  \n",
      "4         10.0        0.0         635.0     0.0     0.0   Brence Harperez  \n"
     ]
    }
   ],
   "source": [
    "print(f'train_df shape: {train_df.shape}')\n",
    "print(f'test_df shape: {test_df.shape}\\n')\n",
    "print(f'train_df head:\\n{train_df.head()}')\n",
    "print(f'test_df head:\\n{test_df.head()}')"
   ]
  },
  {
   "cell_type": "code",
   "execution_count": 126,
   "metadata": {},
   "outputs": [],
   "source": [
    "# drop Name column\n",
    "train_df.drop('Name', axis=1, inplace=True)\n",
    "test_df.drop('Name', axis=1, inplace=True)\n",
    "\n",
    "# drop Cabin\n",
    "train_df.drop('Cabin', axis=1, inplace=True)\n",
    "test_df.drop('Cabin', axis=1, inplace=True)"
   ]
  },
  {
   "cell_type": "code",
   "execution_count": 127,
   "metadata": {},
   "outputs": [],
   "source": [
    "# convert target values to ones and zeros\n",
    "train_df['Transported'] = train_df['Transported'].astype(int)"
   ]
  },
  {
   "cell_type": "code",
   "execution_count": 128,
   "metadata": {},
   "outputs": [],
   "source": [
    "# replace missing values for HomePlanet\n",
    "train_df['HomePlanet']=train_df['HomePlanet'].fillna(train_df['HomePlanet'].mode()[0])\n",
    "test_df['HomePlanet']=test_df['HomePlanet'].fillna(test_df['HomePlanet'].mode()[0])\n",
    "\n",
    "# replace missing values for CryoSleep\n",
    "train_df['CryoSleep']=train_df['CryoSleep'].fillna(train_df['CryoSleep'].mode()[0])\n",
    "test_df['CryoSleep']=test_df['CryoSleep'].fillna(test_df['CryoSleep'].mode()[0])\n",
    "\n",
    "# replace missing values for Destination\n",
    "train_df['Destination']=train_df['Destination'].fillna(train_df['Destination'].mode()[0])\n",
    "test_df['Destination']=test_df['Destination'].fillna(test_df['Destination'].mode()[0])\n",
    "\n",
    "# replace missing values for Age\n",
    "train_df['Age']=train_df['Age'].fillna(train_df['CryoSleep'].mode()[0])\n",
    "test_df['Age']=test_df['Age'].fillna(test_df['CryoSleep'].mode()[0])\n",
    "\n",
    "# replace missing values for VIP\n",
    "train_df['VIP']=train_df['VIP'].fillna(train_df['VIP'].mode()[0])\n",
    "test_df['VIP']=test_df['VIP'].fillna(test_df['VIP'].mode()[0])\n",
    "\n",
    "# replace missing values for RoomService\n",
    "train_df['RoomService']=train_df['RoomService'].fillna(train_df['RoomService'].mean())\n",
    "test_df['RoomService']=test_df['RoomService'].fillna(test_df['RoomService'].mean())\n",
    "\n",
    "# replace missing values for FoodCourt\n",
    "train_df['FoodCourt']=train_df['FoodCourt'].fillna(train_df['FoodCourt'].mean())\n",
    "test_df['FoodCourt']=test_df['FoodCourt'].fillna(test_df['FoodCourt'].mean())\n",
    "\n",
    "# replace missing values for ShoppingMall\n",
    "train_df['ShoppingMall']=train_df['ShoppingMall'].fillna(train_df['ShoppingMall'].mode()[0])\n",
    "test_df['ShoppingMall']=test_df['ShoppingMall'].fillna(test_df['ShoppingMall'].mode()[0])\n",
    "\n",
    "# replace missing values for Spa\n",
    "train_df['Spa']=train_df['Spa'].fillna(train_df['Spa'].mean())\n",
    "test_df['Spa']=test_df['Spa'].fillna(test_df['Spa'].mean())\n",
    "\n",
    "# replace missin values for VRDeck\n",
    "train_df['VRDeck']=train_df['VRDeck'].fillna(train_df['VRDeck'].mode()[0])\n",
    "test_df['VRDeck']=test_df['VRDeck'].fillna(test_df['VRDeck'].mode()[0])"
   ]
  },
  {
   "cell_type": "code",
   "execution_count": 129,
   "metadata": {},
   "outputs": [
    {
     "name": "stdout",
     "output_type": "stream",
     "text": [
      "train_df shape: (8693, 12)\n",
      "test_df shape: (4277, 11)\n",
      "train_df head:\n",
      "  PassengerId HomePlanet  CryoSleep  Destination   Age  VIP  RoomService  \\\n",
      "0     0001_01     Europa          0  TRAPPIST-1e  39.0    0          0.0   \n",
      "1     0002_01      Earth          0  TRAPPIST-1e  24.0    0        109.0   \n",
      "2     0003_01     Europa          0  TRAPPIST-1e  58.0    1         43.0   \n",
      "3     0003_02     Europa          0  TRAPPIST-1e  33.0    0          0.0   \n",
      "4     0004_01      Earth          0  TRAPPIST-1e  16.0    0        303.0   \n",
      "\n",
      "   FoodCourt  ShoppingMall     Spa  VRDeck  Transported  \n",
      "0        0.0           0.0     0.0     0.0            0  \n",
      "1        9.0          25.0   549.0    44.0            1  \n",
      "2     3576.0           0.0  6715.0    49.0            0  \n",
      "3     1283.0         371.0  3329.0   193.0            0  \n",
      "4       70.0         151.0   565.0     2.0            1  \n",
      "test_df head:\n",
      "  PassengerId HomePlanet  CryoSleep  Destination   Age  VIP  RoomService  \\\n",
      "0     0013_01      Earth          1  TRAPPIST-1e  27.0    0          0.0   \n",
      "1     0018_01      Earth          0  TRAPPIST-1e  19.0    0          0.0   \n",
      "2     0019_01     Europa          1  55 Cancri e  31.0    0          0.0   \n",
      "3     0021_01     Europa          0  TRAPPIST-1e  38.0    0          0.0   \n",
      "4     0023_01      Earth          0  TRAPPIST-1e  20.0    0         10.0   \n",
      "\n",
      "   FoodCourt  ShoppingMall     Spa  VRDeck  \n",
      "0        0.0           0.0     0.0     0.0  \n",
      "1        9.0           0.0  2823.0     0.0  \n",
      "2        0.0           0.0     0.0     0.0  \n",
      "3     6652.0           0.0   181.0   585.0  \n",
      "4        0.0         635.0     0.0     0.0  \n"
     ]
    }
   ],
   "source": [
    "# drop PassengerId\n",
    "train_df.drop(columns=['PassengerId'])\n",
    "test_df.drop(columns=['PassengerId'])\n",
    "\n",
    "# convert CryoSleep to ones and zeros\n",
    "train_df['CryoSleep'] = train_df['CryoSleep'].map({True:1, False:0})\n",
    "test_df['CryoSleep'] = test_df['CryoSleep'].map({True:1, False:0})\n",
    "\n",
    "# convert VIP to ones and zeros\n",
    "train_df['VIP'] = train_df['VIP'].map({True:1, False:0})\n",
    "test_df['VIP'] = test_df['VIP'].map({True:1, False:0})\n",
    "\n",
    "print(f'train_df shape: {train_df.shape}')\n",
    "print(f'test_df shape: {test_df.shape}')\n",
    "\n",
    "print(f'train_df head:\\n{train_df.head()}')\n",
    "print(f'test_df head:\\n{test_df.head()}')"
   ]
  },
  {
   "cell_type": "code",
   "execution_count": 130,
   "metadata": {},
   "outputs": [
    {
     "name": "stdout",
     "output_type": "stream",
     "text": [
      "   PassengerId  CryoSleep       Age       VIP  RoomService  FoodCourt  \\\n",
      "0    -1.734411   -0.73277  0.721984 -0.153063    -0.340590  -0.287314   \n",
      "1    -1.734036   -0.73277 -0.283969 -0.153063    -0.175364  -0.281669   \n",
      "2    -1.733662   -0.73277  1.996191  6.533255    -0.275409   1.955616   \n",
      "3    -1.733658   -0.73277  0.319603 -0.153063    -0.340590   0.517406   \n",
      "4    -1.733287   -0.73277 -0.820477 -0.153063     0.118709  -0.243409   \n",
      "\n",
      "   ShoppingMall       Spa    VRDeck  HomePlanet_Earth  HomePlanet_Europa  \\\n",
      "0     -0.283579 -0.276663 -0.263003               0.0                1.0   \n",
      "1     -0.241771  0.211505 -0.224205               1.0                0.0   \n",
      "2     -0.283579  5.694289 -0.219796               0.0                1.0   \n",
      "3      0.336851  2.683471 -0.092818               0.0                1.0   \n",
      "4     -0.031059  0.225732 -0.261240               1.0                0.0   \n",
      "\n",
      "   HomePlanet_Mars  Destination_55 Cancri e  Destination_PSO J318.5-22  \\\n",
      "0              0.0                      0.0                        0.0   \n",
      "1              0.0                      0.0                        0.0   \n",
      "2              0.0                      0.0                        0.0   \n",
      "3              0.0                      0.0                        0.0   \n",
      "4              0.0                      0.0                        0.0   \n",
      "\n",
      "   Destination_TRAPPIST-1e  \n",
      "0                      1.0  \n",
      "1                      1.0  \n",
      "2                      1.0  \n",
      "3                      1.0  \n",
      "4                      1.0  \n",
      "\n",
      "   PassengerId  CryoSleep       Age       VIP  RoomService  FoodCourt  \\\n",
      "0    -1.729918   1.364685 -0.082778 -0.153063    -0.340590  -0.287314   \n",
      "1    -1.728046  -0.732770 -0.619287 -0.153063    -0.340590  -0.281669   \n",
      "2    -1.727671   1.364685  0.185476 -0.153063    -0.340590  -0.287314   \n",
      "3    -1.726923  -0.732770  0.654921 -0.153063    -0.340590   3.884937   \n",
      "4    -1.726174  -0.732770 -0.552223 -0.153063    -0.325431  -0.287314   \n",
      "\n",
      "   ShoppingMall       Spa    VRDeck  HomePlanet_Earth  HomePlanet_Europa  \\\n",
      "0     -0.283579 -0.276663 -0.263003               1.0                0.0   \n",
      "1     -0.283579  2.233537 -0.263003               1.0                0.0   \n",
      "2     -0.283579 -0.276663 -0.263003               0.0                1.0   \n",
      "3     -0.283579 -0.115719  0.252842               0.0                1.0   \n",
      "4      0.778343 -0.276663 -0.263003               1.0                0.0   \n",
      "\n",
      "   HomePlanet_Mars  Destination_55 Cancri e  Destination_PSO J318.5-22  \\\n",
      "0              0.0                      0.0                        0.0   \n",
      "1              0.0                      0.0                        0.0   \n",
      "2              0.0                      1.0                        0.0   \n",
      "3              0.0                      0.0                        0.0   \n",
      "4              0.0                      0.0                        0.0   \n",
      "\n",
      "   Destination_TRAPPIST-1e  \n",
      "0                      1.0  \n",
      "1                      1.0  \n",
      "2                      0.0  \n",
      "3                      1.0  \n",
      "4                      1.0  \n"
     ]
    }
   ],
   "source": [
    "from sklearn.preprocessing import StandardScaler, OneHotEncoder\n",
    "from sklearn.compose import ColumnTransformer\n",
    "\n",
    "categorical_features = ['HomePlanet', 'Destination']\n",
    "numeric_features = [col for col in train_df.columns if col not in categorical_features + ['Transported']]\n",
    "\n",
    "preprocessor = ColumnTransformer(transformers=[\n",
    "    ('num', StandardScaler(), numeric_features),\n",
    "    ('cat', OneHotEncoder(handle_unknown='ignore'), categorical_features)])\n",
    "\n",
    "X = train_df.drop(columns=['Transported'])\n",
    "y = train_df['Transported']\n",
    "\n",
    "X = preprocessor.fit_transform(X)\n",
    "\n",
    "onehot_columns = preprocessor.named_transformers_['cat'].get_feature_names_out(input_features=categorical_features)\n",
    "\n",
    "all_feature_names = numeric_features + list(onehot_columns)\n",
    "\n",
    "#X = X.toarray()\n",
    "\n",
    "X = pd.DataFrame(X, columns=all_feature_names)\n",
    "\n",
    "#Y = test_df\n",
    "Y = preprocessor.transform(test_df)\n",
    "\n",
    "#Y = Y.toarray()\n",
    "Y = pd.DataFrame(Y, columns=all_feature_names)\n",
    "print(X.head())\n",
    "print()\n",
    "print(Y.head())"
   ]
  },
  {
   "cell_type": "code",
   "execution_count": 131,
   "metadata": {},
   "outputs": [
    {
     "name": "stdout",
     "output_type": "stream",
     "text": [
      "PassengerId     0\n",
      "HomePlanet      0\n",
      "CryoSleep       0\n",
      "Destination     0\n",
      "Age             0\n",
      "VIP             0\n",
      "RoomService     0\n",
      "FoodCourt       0\n",
      "ShoppingMall    0\n",
      "Spa             0\n",
      "VRDeck          0\n",
      "Transported     0\n",
      "dtype: int64\n",
      "\n",
      "PassengerId     0\n",
      "HomePlanet      0\n",
      "CryoSleep       0\n",
      "Destination     0\n",
      "Age             0\n",
      "VIP             0\n",
      "RoomService     0\n",
      "FoodCourt       0\n",
      "ShoppingMall    0\n",
      "Spa             0\n",
      "VRDeck          0\n",
      "dtype: int64\n"
     ]
    }
   ],
   "source": [
    "print(pd.isna(train_df).sum())\n",
    "print()\n",
    "print(pd.isna(test_df).sum())"
   ]
  },
  {
   "cell_type": "code",
   "execution_count": 132,
   "metadata": {},
   "outputs": [],
   "source": [
    "from sklearn.model_selection import train_test_split\n",
    "X_train, X_test, y_train, y_test = train_test_split(X, y, random_state = 123, test_size = 0.2, stratify = y)"
   ]
  },
  {
   "cell_type": "code",
   "execution_count": 133,
   "metadata": {},
   "outputs": [],
   "source": [
    "from sklearn.feature_selection import VarianceThreshold\n",
    "\n",
    "# Variance Threshold Section\n",
    "sel = VarianceThreshold(threshold=(0.1))\n",
    "sel.fit(X_train)\n",
    "X_train_vt = sel.transform(X_train)\n",
    "X_test_vt = sel.transform(X_test)\n",
    "Y_vt = sel.transform(Y)"
   ]
  },
  {
   "cell_type": "code",
   "execution_count": 134,
   "metadata": {},
   "outputs": [
    {
     "name": "stdout",
     "output_type": "stream",
     "text": [
      "accuracy: 0.7860839562967222\n"
     ]
    }
   ],
   "source": [
    "from sklearn.svm import SVC\n",
    "from sklearn.metrics import accuracy_score\n",
    "\n",
    "svc = SVC()\n",
    "svc.fit(X_train, y_train)\n",
    "y_pred = svc.predict(X_test)\n",
    "\n",
    "print(f'accuracy: {accuracy_score(y_pred=y_pred, y_true=y_test)}')"
   ]
  }
 ],
 "metadata": {
  "kernelspec": {
   "display_name": "cs4347",
   "language": "python",
   "name": "python3"
  },
  "language_info": {
   "codemirror_mode": {
    "name": "ipython",
    "version": 3
   },
   "file_extension": ".py",
   "mimetype": "text/x-python",
   "name": "python",
   "nbconvert_exporter": "python",
   "pygments_lexer": "ipython3",
   "version": "3.8.16"
  },
  "orig_nbformat": 4
 },
 "nbformat": 4,
 "nbformat_minor": 2
}
