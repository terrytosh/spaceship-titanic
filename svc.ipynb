{
 "cells": [
  {
   "cell_type": "code",
   "execution_count": 65,
   "metadata": {},
   "outputs": [],
   "source": [
    "try:\n",
    "    import pandas as pd\n",
    "    import numpy as np\n",
    "except (ImportError, ModuleNotFoundError):\n",
    "    print('Error occurred while importing libraries...')"
   ]
  },
  {
   "cell_type": "code",
   "execution_count": 66,
   "metadata": {},
   "outputs": [],
   "source": [
    "test_df = pd.read_csv('./data/test.csv', header=0)\n",
    "train_df = pd.read_csv('./data/train.csv', header=0)"
   ]
  },
  {
   "cell_type": "code",
   "execution_count": 67,
   "metadata": {},
   "outputs": [
    {
     "name": "stdout",
     "output_type": "stream",
     "text": [
      "train_df shape: (8693, 14)\n",
      "test_df shape: (4277, 13)\n",
      "\n",
      "train_df head:\n",
      "  PassengerId HomePlanet CryoSleep  Cabin  Destination   Age    VIP  \\\n",
      "0     0001_01     Europa     False  B/0/P  TRAPPIST-1e  39.0  False   \n",
      "1     0002_01      Earth     False  F/0/S  TRAPPIST-1e  24.0  False   \n",
      "2     0003_01     Europa     False  A/0/S  TRAPPIST-1e  58.0   True   \n",
      "3     0003_02     Europa     False  A/0/S  TRAPPIST-1e  33.0  False   \n",
      "4     0004_01      Earth     False  F/1/S  TRAPPIST-1e  16.0  False   \n",
      "\n",
      "   RoomService  FoodCourt  ShoppingMall     Spa  VRDeck               Name  \\\n",
      "0          0.0        0.0           0.0     0.0     0.0    Maham Ofracculy   \n",
      "1        109.0        9.0          25.0   549.0    44.0       Juanna Vines   \n",
      "2         43.0     3576.0           0.0  6715.0    49.0      Altark Susent   \n",
      "3          0.0     1283.0         371.0  3329.0   193.0       Solam Susent   \n",
      "4        303.0       70.0         151.0   565.0     2.0  Willy Santantines   \n",
      "\n",
      "   Transported  \n",
      "0        False  \n",
      "1         True  \n",
      "2        False  \n",
      "3        False  \n",
      "4         True  \n",
      "test_df head:\n",
      "  PassengerId HomePlanet CryoSleep  Cabin  Destination   Age    VIP  \\\n",
      "0     0013_01      Earth      True  G/3/S  TRAPPIST-1e  27.0  False   \n",
      "1     0018_01      Earth     False  F/4/S  TRAPPIST-1e  19.0  False   \n",
      "2     0019_01     Europa      True  C/0/S  55 Cancri e  31.0  False   \n",
      "3     0021_01     Europa     False  C/1/S  TRAPPIST-1e  38.0  False   \n",
      "4     0023_01      Earth     False  F/5/S  TRAPPIST-1e  20.0  False   \n",
      "\n",
      "   RoomService  FoodCourt  ShoppingMall     Spa  VRDeck              Name  \n",
      "0          0.0        0.0           0.0     0.0     0.0   Nelly Carsoning  \n",
      "1          0.0        9.0           0.0  2823.0     0.0    Lerome Peckers  \n",
      "2          0.0        0.0           0.0     0.0     0.0   Sabih Unhearfus  \n",
      "3          0.0     6652.0           0.0   181.0   585.0  Meratz Caltilter  \n",
      "4         10.0        0.0         635.0     0.0     0.0   Brence Harperez  \n"
     ]
    }
   ],
   "source": [
    "print(f'train_df shape: {train_df.shape}')\n",
    "print(f'test_df shape: {test_df.shape}\\n')\n",
    "print(f'train_df head:\\n{train_df.head()}')\n",
    "print(f'test_df head:\\n{test_df.head()}')"
   ]
  },
  {
   "cell_type": "code",
   "execution_count": 68,
   "metadata": {},
   "outputs": [],
   "source": [
    "# drop Name column\n",
    "train_df.drop('Name', axis=1, inplace=True)\n",
    "test_df.drop('Name', axis=1, inplace=True)"
   ]
  },
  {
   "cell_type": "code",
   "execution_count": 69,
   "metadata": {},
   "outputs": [],
   "source": [
    "# convert target values to ones and zeros\n",
    "train_df['Transported'] = train_df['Transported'].astype(int)"
   ]
  },
  {
   "cell_type": "code",
   "execution_count": 70,
   "metadata": {},
   "outputs": [],
   "source": [
    "# replace missing values for Cabin\n",
    "train_df['Cabin']=train_df['Cabin'].fillna(train_df['Cabin'].mode()[0])\n",
    "test_df['Cabin']=test_df['Cabin'].fillna(test_df['Cabin'].mode()[0])\n",
    "\n",
    "# replace missing values for HomePlanet\n",
    "train_df['HomePlanet']=train_df['HomePlanet'].fillna(train_df['HomePlanet'].mode()[0])\n",
    "test_df['HomePlanet']=test_df['HomePlanet'].fillna(test_df['HomePlanet'].mode()[0])\n",
    "\n",
    "# replace missing values for CryoSleep\n",
    "train_df['CryoSleep']=train_df['CryoSleep'].fillna(train_df['CryoSleep'].mode()[0])\n",
    "test_df['CryoSleep']=test_df['CryoSleep'].fillna(test_df['CryoSleep'].mode()[0])\n",
    "\n",
    "# replace missing values for Destination\n",
    "train_df['Destination']=train_df['Destination'].fillna(train_df['Destination'].mode()[0])\n",
    "test_df['Destination']=test_df['Destination'].fillna(test_df['Destination'].mode()[0])\n",
    "\n",
    "# replace missing values for Age\n",
    "train_df['Age']=train_df['Age'].fillna(train_df['Age'].mode()[0])\n",
    "test_df['Age']=test_df['Age'].fillna(test_df['Age'].mode()[0])\n",
    "\n",
    "# replace missing values for VIP\n",
    "train_df['VIP']=train_df['VIP'].fillna(train_df['VIP'].mode()[0])\n",
    "test_df['VIP']=test_df['VIP'].fillna(test_df['VIP'].mode()[0])\n",
    "\n",
    "# replace missing values for RoomService\n",
    "train_df['RoomService']=train_df['RoomService'].fillna(train_df['RoomService'].median())\n",
    "test_df['RoomService']=test_df['RoomService'].fillna(test_df['RoomService'].median())\n",
    "\n",
    "# replace missing values for FoodCourt\n",
    "train_df['FoodCourt']=train_df['FoodCourt'].fillna(train_df['FoodCourt'].median())\n",
    "test_df['FoodCourt']=test_df['FoodCourt'].fillna(test_df['FoodCourt'].median())\n",
    "\n",
    "# replace missing values for ShoppingMall\n",
    "train_df['ShoppingMall']=train_df['ShoppingMall'].fillna(train_df['ShoppingMall'].median())\n",
    "test_df['ShoppingMall']=test_df['ShoppingMall'].fillna(test_df['ShoppingMall'].median())\n",
    "\n",
    "# replace missing values for Spa\n",
    "train_df['Spa']=train_df['Spa'].fillna(train_df['Spa'].median())\n",
    "test_df['Spa']=test_df['Spa'].fillna(test_df['Spa'].median())\n",
    "\n",
    "# replace missin values for VRDeck\n",
    "train_df['VRDeck']=train_df['VRDeck'].fillna(train_df['VRDeck'].median())\n",
    "test_df['VRDeck']=test_df['VRDeck'].fillna(test_df['VRDeck'].median())"
   ]
  },
  {
   "cell_type": "code",
   "execution_count": 71,
   "metadata": {},
   "outputs": [
    {
     "name": "stdout",
     "output_type": "stream",
     "text": [
      "train_df shape: (8693, 13)\n",
      "test_df shape: (4277, 12)\n",
      "train_df head:\n",
      "   PassengerId HomePlanet  CryoSleep  Cabin  Destination   Age  VIP  \\\n",
      "0          101     Europa          0  B/0/P  TRAPPIST-1e  39.0    0   \n",
      "1          201      Earth          0  F/0/S  TRAPPIST-1e  24.0    0   \n",
      "2          301     Europa          0  A/0/S  TRAPPIST-1e  58.0    1   \n",
      "3          302     Europa          0  A/0/S  TRAPPIST-1e  33.0    0   \n",
      "4          401      Earth          0  F/1/S  TRAPPIST-1e  16.0    0   \n",
      "\n",
      "   RoomService  FoodCourt  ShoppingMall     Spa  VRDeck  Transported  \n",
      "0          0.0        0.0           0.0     0.0     0.0            0  \n",
      "1        109.0        9.0          25.0   549.0    44.0            1  \n",
      "2         43.0     3576.0           0.0  6715.0    49.0            0  \n",
      "3          0.0     1283.0         371.0  3329.0   193.0            0  \n",
      "4        303.0       70.0         151.0   565.0     2.0            1  \n",
      "test_df head:\n",
      "   PassengerId HomePlanet  CryoSleep  Cabin  Destination   Age  VIP  \\\n",
      "0         1301      Earth          1  G/3/S  TRAPPIST-1e  27.0    0   \n",
      "1         1801      Earth          0  F/4/S  TRAPPIST-1e  19.0    0   \n",
      "2         1901     Europa          1  C/0/S  55 Cancri e  31.0    0   \n",
      "3         2101     Europa          0  C/1/S  TRAPPIST-1e  38.0    0   \n",
      "4         2301      Earth          0  F/5/S  TRAPPIST-1e  20.0    0   \n",
      "\n",
      "   RoomService  FoodCourt  ShoppingMall     Spa  VRDeck  \n",
      "0          0.0        0.0           0.0     0.0     0.0  \n",
      "1          0.0        9.0           0.0  2823.0     0.0  \n",
      "2          0.0        0.0           0.0     0.0     0.0  \n",
      "3          0.0     6652.0           0.0   181.0   585.0  \n",
      "4         10.0        0.0         635.0     0.0     0.0  \n"
     ]
    }
   ],
   "source": [
    "# convert PassengerId to integers\n",
    "train_df['PassengerId'] = train_df['PassengerId'].apply(lambda x: int(x.replace('_','')))\n",
    "test_df['PassengerId'] = test_df['PassengerId'].apply(lambda x: int(x.replace('_','')))\n",
    "\n",
    "# convert CryoSleep to ones and zeros\n",
    "train_df['CryoSleep'] = train_df['CryoSleep'].map({True:1, False:0})\n",
    "test_df['CryoSleep'] = test_df['CryoSleep'].map({True:1, False:0})\n",
    "\n",
    "# convert VIP to ones and zeros\n",
    "train_df['VIP'] = train_df['VIP'].map({True:1, False:0})\n",
    "test_df['VIP'] = test_df['VIP'].map({True:1, False:0})\n",
    "\n",
    "print(f'train_df shape: {train_df.shape}')\n",
    "print(f'test_df shape: {test_df.shape}')\n",
    "\n",
    "print(f'train_df head:\\n{train_df.head()}')\n",
    "print(f'test_df head:\\n{test_df.head()}')"
   ]
  },
  {
   "cell_type": "code",
   "execution_count": 72,
   "metadata": {},
   "outputs": [
    {
     "name": "stdout",
     "output_type": "stream",
     "text": [
      "<class 'scipy.sparse._csr.csr_matrix'>\n",
      "   PassengerId  CryoSleep       Age       VIP  RoomService  FoodCourt  \\\n",
      "0    -1.734411   -0.73277  0.715553 -0.153063    -0.333105  -0.281027   \n",
      "1    -1.734036   -0.73277 -0.329408 -0.153063    -0.168073  -0.275387   \n",
      "2    -1.733662   -0.73277  2.039169  6.533255    -0.268001   1.959998   \n",
      "3    -1.733658   -0.73277  0.297569 -0.153063    -0.333105   0.523010   \n",
      "4    -1.733287   -0.73277 -0.886720 -0.153063     0.125652  -0.237159   \n",
      "\n",
      "   ShoppingMall       Spa    VRDeck  HomePlanet_Earth  ...  Cabin_G/999/P  \\\n",
      "0     -0.283579 -0.270626 -0.263003               0.0  ...            0.0   \n",
      "1     -0.241771  0.217158 -0.224205               1.0  ...            0.0   \n",
      "2     -0.283579  5.695623 -0.219796               0.0  ...            0.0   \n",
      "3      0.336851  2.687176 -0.092818               0.0  ...            0.0   \n",
      "4     -0.031059  0.231374 -0.261240               1.0  ...            0.0   \n",
      "\n",
      "   Cabin_G/999/S  Cabin_T/0/P  Cabin_T/1/P  Cabin_T/2/P  Cabin_T/2/S  \\\n",
      "0            0.0          0.0          0.0          0.0          0.0   \n",
      "1            0.0          0.0          0.0          0.0          0.0   \n",
      "2            0.0          0.0          0.0          0.0          0.0   \n",
      "3            0.0          0.0          0.0          0.0          0.0   \n",
      "4            0.0          0.0          0.0          0.0          0.0   \n",
      "\n",
      "   Cabin_T/3/P  Destination_55 Cancri e  Destination_PSO J318.5-22  \\\n",
      "0          0.0                      0.0                        0.0   \n",
      "1          0.0                      0.0                        0.0   \n",
      "2          0.0                      0.0                        0.0   \n",
      "3          0.0                      0.0                        0.0   \n",
      "4          0.0                      0.0                        0.0   \n",
      "\n",
      "   Destination_TRAPPIST-1e  \n",
      "0                      1.0  \n",
      "1                      1.0  \n",
      "2                      1.0  \n",
      "3                      1.0  \n",
      "4                      1.0  \n",
      "\n",
      "[5 rows x 6575 columns]\n",
      "\n",
      "   PassengerId  CryoSleep       Age       VIP  RoomService  FoodCourt  \\\n",
      "0    -1.729918   1.364685 -0.120415 -0.153063    -0.333105  -0.281027   \n",
      "1    -1.728046  -0.732770 -0.677728 -0.153063    -0.333105  -0.275387   \n",
      "2    -1.727671   1.364685  0.158241 -0.153063    -0.333105  -0.281027   \n",
      "3    -1.726923  -0.732770  0.645889 -0.153063    -0.333105   3.887680   \n",
      "4    -1.726174  -0.732770 -0.608064 -0.153063    -0.317964  -0.281027   \n",
      "\n",
      "   ShoppingMall       Spa    VRDeck  HomePlanet_Earth  ...  Cabin_G/999/P  \\\n",
      "0     -0.283579 -0.270626 -0.263003               1.0  ...            0.0   \n",
      "1     -0.283579  2.237598 -0.263003               1.0  ...            0.0   \n",
      "2     -0.283579 -0.270626 -0.263003               0.0  ...            0.0   \n",
      "3     -0.283579 -0.109808  0.252842               0.0  ...            0.0   \n",
      "4      0.778343 -0.270626 -0.263003               1.0  ...            0.0   \n",
      "\n",
      "   Cabin_G/999/S  Cabin_T/0/P  Cabin_T/1/P  Cabin_T/2/P  Cabin_T/2/S  \\\n",
      "0            0.0          0.0          0.0          0.0          0.0   \n",
      "1            0.0          0.0          0.0          0.0          0.0   \n",
      "2            0.0          0.0          0.0          0.0          0.0   \n",
      "3            0.0          0.0          0.0          0.0          0.0   \n",
      "4            0.0          0.0          0.0          0.0          0.0   \n",
      "\n",
      "   Cabin_T/3/P  Destination_55 Cancri e  Destination_PSO J318.5-22  \\\n",
      "0          0.0                      0.0                        0.0   \n",
      "1          0.0                      0.0                        0.0   \n",
      "2          0.0                      1.0                        0.0   \n",
      "3          0.0                      0.0                        0.0   \n",
      "4          0.0                      0.0                        0.0   \n",
      "\n",
      "   Destination_TRAPPIST-1e  \n",
      "0                      1.0  \n",
      "1                      1.0  \n",
      "2                      0.0  \n",
      "3                      1.0  \n",
      "4                      1.0  \n",
      "\n",
      "[5 rows x 6575 columns]\n"
     ]
    }
   ],
   "source": [
    "from sklearn.preprocessing import StandardScaler, OneHotEncoder\n",
    "from sklearn.compose import ColumnTransformer\n",
    "\n",
    "categorical_features = ['HomePlanet', 'Cabin', 'Destination']\n",
    "numeric_features = [col for col in train_df.columns if col not in categorical_features + ['Transported']]\n",
    "\n",
    "preprocessor = ColumnTransformer(transformers=[\n",
    "    ('num', StandardScaler(), numeric_features),\n",
    "    ('cat', OneHotEncoder(handle_unknown='ignore'), categorical_features)])\n",
    "\n",
    "X = train_df.drop(columns=['Transported'])\n",
    "y = train_df['Transported']\n",
    "\n",
    "X = preprocessor.fit_transform(X)\n",
    "print(type(X))\n",
    "onehot_columns = preprocessor.named_transformers_['cat'].get_feature_names_out(input_features=categorical_features)\n",
    "\n",
    "all_feature_names = numeric_features + list(onehot_columns)\n",
    "\n",
    "X = X.toarray()\n",
    "\n",
    "X = pd.DataFrame(X, columns=all_feature_names)\n",
    "\n",
    "Y = preprocessor.transform(test_df)\n",
    "\n",
    "Y = Y.toarray()\n",
    "Y = pd.DataFrame(Y, columns=all_feature_names)\n",
    "print(X.head())\n",
    "print()\n",
    "print(Y.head())"
   ]
  },
  {
   "cell_type": "code",
   "execution_count": 73,
   "metadata": {},
   "outputs": [
    {
     "name": "stdout",
     "output_type": "stream",
     "text": [
      "PassengerId     0\n",
      "HomePlanet      0\n",
      "CryoSleep       0\n",
      "Cabin           0\n",
      "Destination     0\n",
      "Age             0\n",
      "VIP             0\n",
      "RoomService     0\n",
      "FoodCourt       0\n",
      "ShoppingMall    0\n",
      "Spa             0\n",
      "VRDeck          0\n",
      "Transported     0\n",
      "dtype: int64\n",
      "\n",
      "PassengerId     0\n",
      "HomePlanet      0\n",
      "CryoSleep       0\n",
      "Cabin           0\n",
      "Destination     0\n",
      "Age             0\n",
      "VIP             0\n",
      "RoomService     0\n",
      "FoodCourt       0\n",
      "ShoppingMall    0\n",
      "Spa             0\n",
      "VRDeck          0\n",
      "dtype: int64\n"
     ]
    }
   ],
   "source": [
    "print(pd.isna(train_df).sum())\n",
    "print()\n",
    "print(pd.isna(test_df).sum())"
   ]
  },
  {
   "cell_type": "code",
   "execution_count": 74,
   "metadata": {},
   "outputs": [],
   "source": [
    "from sklearn.model_selection import train_test_split\n",
    "X_train, X_test, y_train, y_test = train_test_split(X, y, random_state = 123, test_size = 0.2, stratify = y)"
   ]
  },
  {
   "cell_type": "code",
   "execution_count": 75,
   "metadata": {},
   "outputs": [],
   "source": [
    "from sklearn.feature_selection import VarianceThreshold\n",
    "\n",
    "# Variance Threshold Section\n",
    "sel = VarianceThreshold(threshold=(0.1))\n",
    "sel.fit(X_train)\n",
    "X_train_vt = sel.transform(X_train)\n",
    "X_test_vt = sel.transform(X_test)\n",
    "Y_vt = sel.transform(Y)"
   ]
  },
  {
   "cell_type": "code",
   "execution_count": 78,
   "metadata": {},
   "outputs": [
    {
     "name": "stderr",
     "output_type": "stream",
     "text": [
      "/home/ashton/miniconda3/envs/cs4347/lib/python3.8/site-packages/sklearn/model_selection/_validation.py:378: FitFailedWarning: \n",
      "10 fits failed out of a total of 50.\n",
      "The score on these train-test partitions for these parameters will be set to nan.\n",
      "If these failures are not expected, you can try to debug them by setting error_score='raise'.\n",
      "\n",
      "Below are more details about the failures:\n",
      "--------------------------------------------------------------------------------\n",
      "10 fits failed with the following error:\n",
      "Traceback (most recent call last):\n",
      "  File \"/home/ashton/miniconda3/envs/cs4347/lib/python3.8/site-packages/sklearn/model_selection/_validation.py\", line 686, in _fit_and_score\n",
      "    estimator.fit(X_train, y_train, **fit_params)\n",
      "  File \"/home/ashton/miniconda3/envs/cs4347/lib/python3.8/site-packages/sklearn/svm/_base.py\", line 180, in fit\n",
      "    self._validate_params()\n",
      "  File \"/home/ashton/miniconda3/envs/cs4347/lib/python3.8/site-packages/sklearn/base.py\", line 581, in _validate_params\n",
      "    validate_parameter_constraints(\n",
      "  File \"/home/ashton/miniconda3/envs/cs4347/lib/python3.8/site-packages/sklearn/utils/_param_validation.py\", line 97, in validate_parameter_constraints\n",
      "    raise InvalidParameterError(\n",
      "sklearn.utils._param_validation.InvalidParameterError: The 'C' parameter of SVC must be a float in the range (0.0, inf). Got 0 instead.\n",
      "\n",
      "  warnings.warn(some_fits_failed_message, FitFailedWarning)\n",
      "/home/ashton/miniconda3/envs/cs4347/lib/python3.8/site-packages/sklearn/model_selection/_search.py:952: UserWarning: One or more of the test scores are non-finite: [       nan 0.77581245 0.790049   0.79062578 0.78501757]\n",
      "  warnings.warn(\n"
     ]
    },
    {
     "name": "stdout",
     "output_type": "stream",
     "text": [
      "Best hyperparameters with variance threshold:  {'C': 10}\n",
      "Best score:  0.7906257752418755\n"
     ]
    }
   ],
   "source": [
    "from sklearn.svm import SVC\n",
    "from sklearn.metrics import accuracy_score\n",
    "from sklearn.model_selection import GridSearchCV\n",
    "\n",
    "param_grid = { 'C': [0, 0.1, 1, 10, 100]\n",
    "                }\n",
    "\n",
    "svc = SVC(random_state=123)\n",
    "grid_search_vt = GridSearchCV(estimator=svc, param_grid=param_grid, scoring='accuracy', cv=10, n_jobs=-1)\n",
    "\n",
    "grid_search_vt.fit(X_train_vt, y_train)\n",
    "print(\"Best hyperparameters with variance threshold: \", grid_search_vt.best_params_)\n",
    "print('Best score: ', grid_search_vt.best_score_)"
   ]
  },
  {
   "cell_type": "code",
   "execution_count": 79,
   "metadata": {},
   "outputs": [
    {
     "name": "stdout",
     "output_type": "stream",
     "text": [
      "accuracy: 0.7924094307073031\n"
     ]
    }
   ],
   "source": [
    "svc.set_params(C=10)\n",
    "svc.fit(X_train, y_train)\n",
    "y_pred = svc.predict(X_test)\n",
    "\n",
    "print(f'accuracy: {accuracy_score(y_pred=y_pred, y_true=y_test)}')"
   ]
  }
 ],
 "metadata": {
  "kernelspec": {
   "display_name": "cs4347",
   "language": "python",
   "name": "python3"
  },
  "language_info": {
   "codemirror_mode": {
    "name": "ipython",
    "version": 3
   },
   "file_extension": ".py",
   "mimetype": "text/x-python",
   "name": "python",
   "nbconvert_exporter": "python",
   "pygments_lexer": "ipython3",
   "version": "3.8.16"
  },
  "orig_nbformat": 4
 },
 "nbformat": 4,
 "nbformat_minor": 2
}
